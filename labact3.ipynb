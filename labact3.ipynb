{
 "cells": [
  {
   "cell_type": "code",
   "execution_count": 1,
   "metadata": {},
   "outputs": [
    {
     "name": "stdout",
     "output_type": "stream",
     "text": [
      "4 is an Even number.\n",
      "7 is an Odd number.\n",
      "-4 is an Even number.\n",
      "0 is an Even number.\n"
     ]
    }
   ],
   "source": [
    "def check_number(num):\n",
    "    if num % 2 == 0:\n",
    "        print(f\"{num} is an Even number.\")\n",
    "    else:\n",
    "        print(f\"{num} is an Odd number.\")\n",
    "\n",
    "# Test the function \n",
    "check_number(4)  # Output: 4 is an Even number.\n",
    "check_number(7)  # Output: 7 is an Odd number.\n",
    "check_number(-4)  # Output: -4 is an Even number.\n",
    "check_number(0)  # Output: 0 is an Even number.\n"
   ]
  },
  {
   "cell_type": "code",
   "execution_count": null,
   "metadata": {},
   "outputs": [],
   "source": []
  }
 ],
 "metadata": {
  "kernelspec": {
   "display_name": "Python 3 (ipykernel)",
   "language": "python",
   "name": "python3"
  },
  "language_info": {
   "codemirror_mode": {
    "name": "ipython",
    "version": 3
   },
   "file_extension": ".py",
   "mimetype": "text/x-python",
   "name": "python",
   "nbconvert_exporter": "python",
   "pygments_lexer": "ipython3",
   "version": "3.11.0"
  }
 },
 "nbformat": 4,
 "nbformat_minor": 4
}
